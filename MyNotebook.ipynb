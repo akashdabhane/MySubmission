{
  "metadata": {
    "language_info": {
      "codemirror_mode": {
        "name": "python",
        "version": 3
      },
      "file_extension": ".py",
      "mimetype": "text/x-python",
      "name": "python",
      "nbconvert_exporter": "python",
      "pygments_lexer": "ipython3",
      "version": "3.8"
    },
    "kernelspec": {
      "name": "python",
      "display_name": "Pyolite",
      "language": "python"
    }
  },
  "nbformat_minor": 4,
  "nbformat": 4,
  "cells": [
    {
      "cell_type": "markdown",
      "source": "<h1>My Jupyter Notebook on IBM Watson Studio</h1>",
      "metadata": {}
    },
    {
      "cell_type": "markdown",
      "source": "<b>Akash Dunda Dabhane</b>\n<br>student",
      "metadata": {}
    },
    {
      "cell_type": "markdown",
      "source": "<i>I my interested,because I am passionate about data. I enjoy problem-solving and statistical analysis. </i>",
      "metadata": {}
    },
    {
      "cell_type": "markdown",
      "source": "<h3>Following code will perform some arithmetic operations</h3>",
      "metadata": {}
    },
    {
      "cell_type": "code",
      "source": "a = 10; \nb = 20; \n\nprint(\"Addition : \",a+b)\nprint(\"Subtration : \",a-b)\nprint(\"Multiplication : \",a*b)\nprint(\"Division : \",a/b)",
      "metadata": {
        "trusted": true
      },
      "execution_count": 5,
      "outputs": [
        {
          "name": "stdout",
          "text": "Addition :  30\nSubtration :  -10\nMultiplication :  200\nDivision :  0.5\n",
          "output_type": "stream"
        }
      ]
    },
    {
      "cell_type": "code",
      "source": "Computer Programming languages\n<ul>\n<li>Python</li>\n<li>Java</li>\n<li>C++</li>\n</ul>\n\nTypes of databases\n<ol>\n<li>Relational Databases</li>\n<li>Non-relational Databases</li>\n</ol>\n\n<br>\n<a href=\"https://www.instagram.com/akash.dabhane_/?hl=en\">My instagram profile</a>\n",
      "metadata": {},
      "execution_count": null,
      "outputs": []
    },
    {
      "cell_type": "markdown",
      "source": "<li>Computer Programming languages</li>\n<ol>Python</ol>\n<ol>Java</ol>\n<ol>C++</ol>\n<li>Types of databases</li>\n<ol>Relational Databases</ol>\n<ol>Non-relational Databases</ol>\n\n<br>\n<a href=\"https://www.instagram.com/akash.dabhane_/?hl=en\">My instagram profile</a>",
      "metadata": {}
    }
  ]
}